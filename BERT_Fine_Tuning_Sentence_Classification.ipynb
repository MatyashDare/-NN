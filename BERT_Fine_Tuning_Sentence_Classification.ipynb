{
  "cells": [
    {
      "cell_type": "markdown",
      "source": [
        "# BERT Fine-Tuning Tutorial with PyTorch\n",
        "\n",
        "By Chris McCormick and Nick Ryan"
      ],
      "metadata": {
        "id": "Big9rfwVyEtk"
      },
      "id": "Big9rfwVyEtk"
    },
    {
      "cell_type": "markdown",
      "source": [
        "In this tutorial I'll show you how to use BERT with the huggingface PyTorch library to quickly and efficiently fine-tune a model to get near state of the art performance in sentence classification. More broadly, I describe the practical application of transfer learning in NLP to create high performance models with minimal effort on a range of NLP tasks.\n",
        "\n",
        "This post is presented in two forms--as a blog post [here](http://mccormickml.com/2019/07/22/BERT-fine-tuning/) and as a Colab Notebook [here](https://colab.research.google.com/drive/1Y4o3jh3ZH70tl6mCd76vz_IxX23biCPP). \n",
        "\n",
        "The content is identical in both, but: \n",
        "* The blog post includes a comments section for discussion. \n",
        "* The Colab Notebook will allow you to run the code and inspect it as you read through.\n",
        "\n",
        "I've also published a video walkthrough of this post on my YouTube channel! [Part 1](https://youtu.be/x66kkDnbzi4) and [Part 2](https://youtu.be/Hnvb9b7a_Ps)."
      ],
      "metadata": {
        "id": "E_FzhOroyRiL"
      },
      "id": "E_FzhOroyRiL"
    },
    {
      "cell_type": "markdown",
      "source": [
        "# Introduction\n",
        "\n",
        "## History\n",
        "\n",
        "2018 was a breakthrough year in NLP. Transfer learning, particularly models like Allen AI's ELMO, OpenAI's Open-GPT, and Google's BERT allowed researchers to smash multiple benchmarks with minimal task-specific fine-tuning and provided the rest of the NLP community with pretrained models that could easily (with less data and less compute time) be fine-tuned and implemented to produce state of the art results. Unfortunately, for many starting out in NLP and even for some experienced practicioners, the theory and practical application of these powerful models is still not well understood.\n",
        "\n",
        "\n",
        "## What is BERT?\n",
        "\n",
        "BERT (Bidirectional Encoder Representations from Transformers), released in late 2018, is the model we will use in this tutorial to provide readers with a better understanding of and practical guidance for using transfer learning models in NLP. BERT is a method of pretraining language representations that was used to create models that NLP practicioners can then download and use for free. You can either use these models to extract high quality language features from your text data, or you can fine-tune these models on a specific task (classification, entity recognition, question answering, etc.) with your own data to produce state of the art predictions.\n",
        "\n",
        "This post will explain how you can modify and fine-tune BERT to create a powerful NLP model that quickly gives you state of the art results. \n",
        "\n",
        "In this tutorial, we will use BERT to train a text classifier. Specifically, we will take the pre-trained BERT model, add an untrained layer of neurons on the end, and train the new model for our classification task. Why do this rather than train a train a specific deep learning model (a CNN, BiLSTM, etc.) that is well suited for the specific NLP task you need? \n",
        "\n",
        "1. **Quicker Development**\n",
        "\n",
        "    * First, the pre-trained BERT model weights already encode a lot of information about our language. As a result, it takes much less time to train our fine-tuned model - it is as if we have already trained the bottom layers of our network extensively and only need to gently tune them while using their output as features for our classification task. In fact, the authors recommend only 2-4 epochs of training for fine-tuning BERT on a specific NLP task (compared to the hundreds of GPU hours needed to train the original BERT model or a LSTM from scratch!). \n",
        "\n",
        "2. **Less Data**\n",
        "\n",
        "    * In addition and perhaps just as important, because of the pre-trained weights this method allows us to fine-tune our task on a much smaller dataset than would be required in a model that is built from scratch. A major drawback of NLP models built from scratch is that we often need a prohibitively large dataset in order to train our network to reasonable accuracy, meaning a lot of time and energy had to be put into dataset creation. By fine-tuning BERT, we are now able to get away with training a model to good performance on a much smaller amount of training data.\n",
        "\n",
        "3. **Better Results**\n",
        "\n",
        "    * Finally, this simple fine-tuning procedure (typically adding one fully-connected layer on top of BERT and training for a few epochs) was shown to achieve state of the art results with minimal task-specific adjustments for a wide variety of tasks: classification, language inference, semantic similarity, question answering, etc. Rather than implementing custom and sometimes-obscure architetures shown to work well on a specific task, simply fine-tuning BERT is shown to be a better (or at least equal) alternative."
      ],
      "metadata": {
        "id": "WDFiGGIjyWB9"
      },
      "id": "WDFiGGIjyWB9"
    },
    {
      "cell_type": "markdown",
      "source": [
        "# 1. Setup\n",
        "\n",
        "## 1.1. Using Colab GPU for Training\n",
        "\n",
        "\n",
        "Google Colab offers free GPUs and TPUs! Since we'll be training a large neural network it's best to take advantage of this (in this case we'll attach a GPU), otherwise training will take a very long time.\n",
        "\n",
        "A GPU can be added by going to the menu and selecting:\n",
        "\n",
        "`Edit 🡒 Notebook Settings 🡒 Hardware accelerator 🡒 (GPU)`\n",
        "\n",
        "Then run the following cell to confirm that the GPU is detected.\n",
        "\n",
        "In order for torch to use the GPU, we need to identify and specify the GPU as the device. Later, in our training loop, we will load data onto the device. "
      ],
      "metadata": {
        "id": "nA-FGQz8zz7q"
      },
      "id": "nA-FGQz8zz7q"
    },
    {
      "cell_type": "code",
      "execution_count": null,
      "id": "90a0d221",
      "metadata": {
        "execution": {
          "iopub.execute_input": "2021-12-20T15:00:29.563382Z",
          "iopub.status.busy": "2021-12-20T15:00:29.562239Z",
          "iopub.status.idle": "2021-12-20T15:00:29.566904Z",
          "shell.execute_reply": "2021-12-20T15:00:29.567522Z",
          "shell.execute_reply.started": "2021-12-20T13:39:05.239212Z"
        },
        "id": "90a0d221",
        "outputId": "a781e191-64e4-4dba-bab3-4287d0412c54",
        "papermill": {
          "duration": 0.097581,
          "end_time": "2021-12-20T15:00:29.567731",
          "exception": false,
          "start_time": "2021-12-20T15:00:29.470150",
          "status": "completed"
        },
        "tags": []
      },
      "outputs": [
        {
          "name": "stdout",
          "output_type": "stream",
          "text": [
            "There are 1 GPU(s) available.\n",
            "We will use the GPU: Tesla P100-PCIE-16GB\n"
          ]
        }
      ],
      "source": [
        "import torch\n",
        "\n",
        "# If there's a GPU available...\n",
        "if torch.cuda.is_available():    \n",
        "\n",
        "    # Tell PyTorch to use the GPU.    \n",
        "    device = torch.device(\"cuda\")\n",
        "\n",
        "    print('There are %d GPU(s) available.' % torch.cuda.device_count())\n",
        "\n",
        "    print('We will use the GPU:', torch.cuda.get_device_name(0))\n",
        "\n",
        "# If not...\n",
        "else:\n",
        "    print('No GPU available, using the CPU instead.')\n",
        "    device = torch.device(\"cpu\")"
      ]
    },
    {
      "cell_type": "markdown",
      "source": [
        "## 1.2. Installing the Hugging Face Library\n",
        "\n",
        "\n",
        "Next, let's install the [transformers](https://github.com/huggingface/transformers) package from Hugging Face which will give us a pytorch interface for working with BERT. (This library contains interfaces for other pretrained language models like OpenAI's GPT and GPT-2.) We've selected the pytorch interface because it strikes a nice balance between the high-level APIs (which are easy to use but don't provide insight into how things work) and tensorflow code (which contains lots of details but often sidetracks us into lessons about tensorflow, when the purpose here is BERT!).\n",
        "\n",
        "At the moment, the Hugging Face library seems to be the most widely accepted and powerful pytorch interface for working with BERT. In addition to supporting a variety of different pre-trained transformer models, the library also includes pre-built modifications of these models suited to your specific task. For example, in this tutorial we will use `BertForSequenceClassification`.\n",
        "\n",
        "The library also includes task-specific classes for token classification, question answering, next sentence prediciton, etc. Using these pre-built classes simplifies the process of modifying BERT for your purposes."
      ],
      "metadata": {
        "id": "uCcI33klz-Y3"
      },
      "id": "uCcI33klz-Y3"
    },
    {
      "cell_type": "code",
      "execution_count": null,
      "id": "6326a84d",
      "metadata": {
        "execution": {
          "iopub.execute_input": "2021-12-20T15:00:29.630571Z",
          "iopub.status.busy": "2021-12-20T15:00:29.629672Z",
          "iopub.status.idle": "2021-12-20T15:00:40.461154Z",
          "shell.execute_reply": "2021-12-20T15:00:40.460124Z",
          "shell.execute_reply.started": "2021-12-20T13:39:05.303256Z"
        },
        "id": "6326a84d",
        "outputId": "47c3dd4c-1d0b-4d70-b574-c4250d60c0b9",
        "papermill": {
          "duration": 10.8642,
          "end_time": "2021-12-20T15:00:40.461387",
          "exception": false,
          "start_time": "2021-12-20T15:00:29.597187",
          "status": "completed"
        },
        "tags": []
      },
      "outputs": [
        {
          "name": "stdout",
          "output_type": "stream",
          "text": [
            "Requirement already satisfied: transformers in /opt/conda/lib/python3.7/site-packages (4.12.5)\r\n",
            "Requirement already satisfied: filelock in /opt/conda/lib/python3.7/site-packages (from transformers) (3.3.2)\r\n",
            "Requirement already satisfied: pyyaml>=5.1 in /opt/conda/lib/python3.7/site-packages (from transformers) (6.0)\r\n",
            "Requirement already satisfied: requests in /opt/conda/lib/python3.7/site-packages (from transformers) (2.25.1)\r\n",
            "Requirement already satisfied: numpy>=1.17 in /opt/conda/lib/python3.7/site-packages (from transformers) (1.19.5)\r\n",
            "Requirement already satisfied: sacremoses in /opt/conda/lib/python3.7/site-packages (from transformers) (0.0.46)\r\n",
            "Requirement already satisfied: tokenizers<0.11,>=0.10.1 in /opt/conda/lib/python3.7/site-packages (from transformers) (0.10.3)\r\n",
            "Requirement already satisfied: importlib-metadata in /opt/conda/lib/python3.7/site-packages (from transformers) (4.8.2)\r\n",
            "Requirement already satisfied: tqdm>=4.27 in /opt/conda/lib/python3.7/site-packages (from transformers) (4.62.3)\r\n",
            "Requirement already satisfied: huggingface-hub<1.0,>=0.1.0 in /opt/conda/lib/python3.7/site-packages (from transformers) (0.1.2)\r\n",
            "Requirement already satisfied: packaging>=20.0 in /opt/conda/lib/python3.7/site-packages (from transformers) (21.0)\r\n",
            "Requirement already satisfied: regex!=2019.12.17 in /opt/conda/lib/python3.7/site-packages (from transformers) (2021.11.10)\r\n",
            "Requirement already satisfied: typing-extensions>=3.7.4.3 in /opt/conda/lib/python3.7/site-packages (from huggingface-hub<1.0,>=0.1.0->transformers) (3.10.0.2)\r\n",
            "Requirement already satisfied: pyparsing>=2.0.2 in /opt/conda/lib/python3.7/site-packages (from packaging>=20.0->transformers) (3.0.6)\r\n",
            "Requirement already satisfied: zipp>=0.5 in /opt/conda/lib/python3.7/site-packages (from importlib-metadata->transformers) (3.6.0)\r\n",
            "Requirement already satisfied: certifi>=2017.4.17 in /opt/conda/lib/python3.7/site-packages (from requests->transformers) (2021.10.8)\r\n",
            "Requirement already satisfied: idna<3,>=2.5 in /opt/conda/lib/python3.7/site-packages (from requests->transformers) (2.10)\r\n",
            "Requirement already satisfied: urllib3<1.27,>=1.21.1 in /opt/conda/lib/python3.7/site-packages (from requests->transformers) (1.26.7)\r\n",
            "Requirement already satisfied: chardet<5,>=3.0.2 in /opt/conda/lib/python3.7/site-packages (from requests->transformers) (4.0.0)\r\n",
            "Requirement already satisfied: joblib in /opt/conda/lib/python3.7/site-packages (from sacremoses->transformers) (1.1.0)\r\n",
            "Requirement already satisfied: click in /opt/conda/lib/python3.7/site-packages (from sacremoses->transformers) (8.0.3)\r\n",
            "Requirement already satisfied: six in /opt/conda/lib/python3.7/site-packages (from sacremoses->transformers) (1.16.0)\r\n",
            "\u001b[33mWARNING: Running pip as the 'root' user can result in broken permissions and conflicting behaviour with the system package manager. It is recommended to use a virtual environment instead: https://pip.pypa.io/warnings/venv\u001b[0m\r\n"
          ]
        }
      ],
      "source": [
        "!pip install transformers"
      ]
    },
    {
      "cell_type": "markdown",
      "source": [
        "The code in this notebook is actually a simplified version of the [run_glue.py](https://github.com/huggingface/transformers/blob/master/examples/run_glue.py) example script from huggingface.\n",
        "\n",
        "`run_glue.py` is a helpful utility which allows you to pick which GLUE benchmark task you want to run on, and which pre-trained model you want to use (you can see the list of possible models [here](https://github.com/huggingface/transformers/blob/e6cff60b4cbc1158fbd6e4a1c3afda8dc224f566/examples/run_glue.py#L69)). It also supports using either the CPU, a single GPU, or multiple GPUs. It even supports using 16-bit precision if you want further speed up.\n",
        "\n",
        "Unfortunately, all of this configurability comes at the cost of *readability*. In this Notebook, we've simplified the code greatly and added plenty of comments to make it clear what's going on. \n",
        "\n",
        "# 2. Loading Dataset\n",
        "\n",
        "## 2.1. Download & Extract\n",
        "\n",
        "We'll use the `wget` package to download the dataset to the Colab instance's file system. "
      ],
      "metadata": {
        "id": "3mgdpibE0Vhz"
      },
      "id": "3mgdpibE0Vhz"
    },
    {
      "cell_type": "code",
      "execution_count": null,
      "id": "13ae5d77",
      "metadata": {
        "execution": {
          "iopub.execute_input": "2021-12-20T15:00:40.530036Z",
          "iopub.status.busy": "2021-12-20T15:00:40.529037Z",
          "iopub.status.idle": "2021-12-20T15:00:41.670885Z",
          "shell.execute_reply": "2021-12-20T15:00:41.670179Z",
          "shell.execute_reply.started": "2021-12-20T13:39:16.453769Z"
        },
        "id": "13ae5d77",
        "outputId": "948619ea-3975-41a6-e4ef-845a93783ffd",
        "papermill": {
          "duration": 1.178828,
          "end_time": "2021-12-20T15:00:41.671044",
          "exception": false,
          "start_time": "2021-12-20T15:00:40.492216",
          "status": "completed"
        },
        "tags": []
      },
      "outputs": [
        {
          "name": "stdout",
          "output_type": "stream",
          "text": [
            "--2021-12-20 15:00:41--  https://raw.githubusercontent.com/semensorokin/DLforNLP_course_material/master/Homework2/answers_subsample.csv\r\n",
            "Resolving raw.githubusercontent.com (raw.githubusercontent.com)... 185.199.110.133, 185.199.111.133, 185.199.108.133, ...\r\n",
            "Connecting to raw.githubusercontent.com (raw.githubusercontent.com)|185.199.110.133|:443... connected.\r\n",
            "HTTP request sent, awaiting response... 200 OK\r\n",
            "Length: 28717126 (27M) [text/plain]\r\n",
            "Saving to: ‘answers_subsample.csv’\r\n",
            "\r\n",
            "answers_subsample.c 100%[===================>]  27.39M   146MB/s    in 0.2s    \r\n",
            "\r\n",
            "2021-12-20 15:00:41 (146 MB/s) - ‘answers_subsample.csv’ saved [28717126/28717126]\r\n",
            "\r\n"
          ]
        }
      ],
      "source": [
        "!wget https://raw.githubusercontent.com/semensorokin/DLforNLP_course_material/master/Homework2/answers_subsample.csv"
      ]
    },
    {
      "cell_type": "markdown",
      "source": [
        "## 2.2. Parse\n",
        "\n"
      ],
      "metadata": {
        "id": "EH4exz6D0Ddd"
      },
      "id": "EH4exz6D0Ddd"
    },
    {
      "cell_type": "code",
      "execution_count": null,
      "id": "cea933f5",
      "metadata": {
        "execution": {
          "iopub.execute_input": "2021-12-20T15:00:41.751230Z",
          "iopub.status.busy": "2021-12-20T15:00:41.750576Z",
          "iopub.status.idle": "2021-12-20T15:00:43.351878Z",
          "shell.execute_reply": "2021-12-20T15:00:43.350798Z",
          "shell.execute_reply.started": "2021-12-20T13:39:19.535913Z"
        },
        "id": "cea933f5",
        "papermill": {
          "duration": 1.648458,
          "end_time": "2021-12-20T15:00:43.352041",
          "exception": false,
          "start_time": "2021-12-20T15:00:41.703583",
          "status": "completed"
        },
        "tags": []
      },
      "outputs": [],
      "source": [
        "import pandas as pd\n",
        "from sklearn.model_selection import train_test_split\n",
        "\n",
        "# Load the dataset into a pandas dataframe.\n",
        "data = pd.read_csv('answers_subsample.csv')\n",
        "cat_mapper = {cat: n for n, cat in enumerate(data.category.unique())}\n",
        "data.category = data.category.map(cat_mapper)"
      ]
    },
    {
      "cell_type": "code",
      "execution_count": null,
      "id": "14995ad5",
      "metadata": {
        "execution": {
          "iopub.execute_input": "2021-12-20T15:00:43.424007Z",
          "iopub.status.busy": "2021-12-20T15:00:43.423040Z",
          "iopub.status.idle": "2021-12-20T15:00:43.426391Z",
          "shell.execute_reply": "2021-12-20T15:00:43.425716Z",
          "shell.execute_reply.started": "2021-12-20T13:39:21.121563Z"
        },
        "id": "14995ad5",
        "papermill": {
          "duration": 0.041678,
          "end_time": "2021-12-20T15:00:43.426531",
          "exception": false,
          "start_time": "2021-12-20T15:00:43.384853",
          "status": "completed"
        },
        "tags": []
      },
      "outputs": [],
      "source": [
        "# Get the lists of sentences and their labels.\n",
        "sentences = data.text.values\n",
        "labels = data.category.values"
      ]
    },
    {
      "cell_type": "markdown",
      "source": [
        "# 3. Tokenization & Input Formatting\n",
        "\n",
        "In this section, we'll transform our dataset into the format that BERT can be trained on.\n",
        "\n",
        "## 3.1. BERT Tokenizer\n",
        "\n",
        "To feed our text to BERT, it must be split into tokens, and then these tokens must be mapped to their index in the tokenizer vocabulary.\n",
        "\n",
        "The tokenization must be performed by the tokenizer included with BERT--the below cell will download this for us. We'll be using the \"uncased\" version here."
      ],
      "metadata": {
        "id": "Osi9Rzxb0dF_"
      },
      "id": "Osi9Rzxb0dF_"
    },
    {
      "cell_type": "code",
      "execution_count": null,
      "id": "6a724236",
      "metadata": {
        "execution": {
          "iopub.execute_input": "2021-12-20T15:00:43.531711Z",
          "iopub.status.busy": "2021-12-20T15:00:43.530192Z",
          "iopub.status.idle": "2021-12-20T15:00:55.813249Z",
          "shell.execute_reply": "2021-12-20T15:00:55.812637Z",
          "shell.execute_reply.started": "2021-12-20T13:39:21.129392Z"
        },
        "id": "6a724236",
        "outputId": "69a81351-bf31-4129-e54f-9448b96c27e0",
        "papermill": {
          "duration": 12.354757,
          "end_time": "2021-12-20T15:00:55.813465",
          "exception": false,
          "start_time": "2021-12-20T15:00:43.458708",
          "status": "completed"
        },
        "tags": [],
        "colab": {
          "referenced_widgets": [
            "99507e52991245f78a6698ba20560ade",
            "92d1c2116e7941fe91d6fe2fc6bcb045",
            "b5bd843c0da14d8687039ba7185cb7d0",
            "7fc871af21ab4463986b727bd496fff6"
          ]
        }
      },
      "outputs": [
        {
          "name": "stdout",
          "output_type": "stream",
          "text": [
            "Loading BERT tokenizer...\n"
          ]
        },
        {
          "data": {
            "application/vnd.jupyter.widget-view+json": {
              "model_id": "99507e52991245f78a6698ba20560ade",
              "version_major": 2,
              "version_minor": 0
            },
            "text/plain": [
              "Downloading:   0%|          | 0.00/1.57M [00:00<?, ?B/s]"
            ]
          },
          "metadata": {},
          "output_type": "display_data"
        },
        {
          "data": {
            "application/vnd.jupyter.widget-view+json": {
              "model_id": "92d1c2116e7941fe91d6fe2fc6bcb045",
              "version_major": 2,
              "version_minor": 0
            },
            "text/plain": [
              "Downloading:   0%|          | 0.00/112 [00:00<?, ?B/s]"
            ]
          },
          "metadata": {},
          "output_type": "display_data"
        },
        {
          "data": {
            "application/vnd.jupyter.widget-view+json": {
              "model_id": "b5bd843c0da14d8687039ba7185cb7d0",
              "version_major": 2,
              "version_minor": 0
            },
            "text/plain": [
              "Downloading:   0%|          | 0.00/24.0 [00:00<?, ?B/s]"
            ]
          },
          "metadata": {},
          "output_type": "display_data"
        },
        {
          "data": {
            "application/vnd.jupyter.widget-view+json": {
              "model_id": "7fc871af21ab4463986b727bd496fff6",
              "version_major": 2,
              "version_minor": 0
            },
            "text/plain": [
              "Downloading:   0%|          | 0.00/642 [00:00<?, ?B/s]"
            ]
          },
          "metadata": {},
          "output_type": "display_data"
        }
      ],
      "source": [
        "from transformers import BertTokenizer\n",
        "\n",
        "# Load the BERT tokenizer.\n",
        "print('Loading BERT tokenizer...')\n",
        "tokenizer = BertTokenizer.from_pretrained('DeepPavlov/rubert-base-cased')"
      ]
    },
    {
      "cell_type": "code",
      "execution_count": null,
      "id": "42e6d3ac",
      "metadata": {
        "execution": {
          "iopub.execute_input": "2021-12-20T15:00:55.895936Z",
          "iopub.status.busy": "2021-12-20T15:00:55.893708Z",
          "iopub.status.idle": "2021-12-20T15:00:55.899269Z",
          "shell.execute_reply": "2021-12-20T15:00:55.898646Z",
          "shell.execute_reply.started": "2021-12-20T13:39:33.147910Z"
        },
        "id": "42e6d3ac",
        "outputId": "dc60aaef-9d14-4f70-821a-29dd47711734",
        "papermill": {
          "duration": 0.05054,
          "end_time": "2021-12-20T15:00:55.899442",
          "exception": false,
          "start_time": "2021-12-20T15:00:55.848902",
          "status": "completed"
        },
        "tags": []
      },
      "outputs": [
        {
          "name": "stdout",
          "output_type": "stream",
          "text": [
            " Original:  Могут ли в россельхозбанке дать в залог норковых шуб помогите пожалуйста\n",
            "Tokenized:  ['Могут', 'ли', 'в', 'росс', '##ель', '##хоз', '##банке', 'дать', 'в', 'залог', 'нор', '##ковых', 'шу', '##б', 'помог', '##ите', 'пожалуйста']\n",
            "Token IDs:  [73459, 11089, 845, 13605, 1644, 10936, 91106, 18769, 845, 27087, 66081, 17090, 110836, 844, 11567, 13185, 114408]\n"
          ]
        }
      ],
      "source": [
        "# Print the original sentence.\n",
        "print(' Original: ', sentences[0])\n",
        "\n",
        "# Print the sentence split into tokens.\n",
        "print('Tokenized: ', tokenizer.tokenize(sentences[0]))\n",
        "\n",
        "# Print the sentence mapped to token ids.\n",
        "print('Token IDs: ', tokenizer.convert_tokens_to_ids(tokenizer.tokenize(sentences[0])))"
      ]
    },
    {
      "cell_type": "markdown",
      "source": [
        "## 3.1.1 Required Formatting\n",
        "\n",
        "About BPE"
      ],
      "metadata": {
        "id": "7_UU_vuH0n45"
      },
      "id": "7_UU_vuH0n45"
    },
    {
      "cell_type": "code",
      "source": [
        ""
      ],
      "metadata": {
        "id": "8Zdsx2L-0pQy"
      },
      "id": "8Zdsx2L-0pQy",
      "execution_count": null,
      "outputs": []
    },
    {
      "cell_type": "markdown",
      "source": [
        "## 3.2. Required Formatting\n",
        "\n",
        "The above code left out a few required formatting steps that we'll look at here.\n",
        "\n",
        "*Side Note: The input format to BERT seems \"over-specified\" to me... We are required to give it a number of pieces of information which seem redundant, or like they could easily be inferred from the data without us explicity providing it. But it is what it is, and I suspect it will make more sense once I have a deeper understanding of the BERT internals.*\n",
        "\n",
        "We are required to:\n",
        "1. Add special tokens to the start and end of each sentence.\n",
        "2. Pad & truncate all sentences to a single constant length.\n",
        "3. Explicitly differentiate real tokens from padding tokens with the \"attention mask\".\n",
        "\n",
        "\n",
        "\n",
        "### Special Tokens\n",
        "\n",
        "\n",
        "**`[SEP]`**\n",
        "\n",
        "At the end of every sentence, we need to append the special `[SEP]` token. \n",
        "\n",
        "This token is an artifact of two-sentence tasks, where BERT is given two separate sentences and asked to determine something (e.g., can the answer to the question in sentence A be found in sentence B?). \n",
        "\n",
        "I am not certain yet why the token is still required when we have only single-sentence input, but it is!\n",
        "\n",
        "**`[CLS]`**\n",
        "\n",
        "For classification tasks, we must prepend the special `[CLS]` token to the beginning of every sentence.\n",
        "\n",
        "This token has special significance. BERT consists of 12 Transformer layers. Each transformer takes in a list of token embeddings, and produces the same number of embeddings on the output (but with the feature values changed, of course!).\n",
        "\n",
        "![Illustration of CLS token purpose](http://www.mccormickml.com/assets/BERT/CLS_token_500x606.png)\n",
        "\n",
        "On the output of the final (12th) transformer, *only the first embedding (corresponding to the [CLS] token) is used by the classifier*.\n",
        "\n",
        ">  \"The first token of every sequence is always a special classification token (`[CLS]`). The final hidden state\n",
        "corresponding to this token is used as the aggregate sequence representation for classification\n",
        "tasks.\" (from the [BERT paper](https://arxiv.org/pdf/1810.04805.pdf))\n",
        "\n",
        "I'm not sure why the authors took this strategy instead of some kind of pooling of all the final vectors, but I'm sure that if pooling were better they would have gone that route. \n",
        "\n",
        "Also, because BERT is trained to only use this [CLS] token for classification, we know that the model has been motivated to encode everything it needs for the classification step into that single 768-value embedding vector.\n",
        "\n",
        "\n",
        "### Sentence Length & Attention Mask\n",
        "\n",
        "\n",
        "The sentences in our dataset obviously have varying lengths, so how does BERT handle this?\n",
        "\n",
        "BERT has two constraints:\n",
        "1. All sentences must be padded or truncated to a single, fixed length.\n",
        "2. The maximum sentence length is 512 tokens.\n",
        "\n",
        "Padding is done with a special `[PAD]` token, which is at index 0 in the BERT vocabulary. The below illustration demonstrates padding out to a \"MAX_LEN\" of 8 tokens.\n",
        "\n",
        "<img src=\"http://www.mccormickml.com/assets/BERT/padding_and_mask.png\" width=\"600\">\n",
        "\n",
        "The \"Attention Mask\" is simply an array of 1s and 0s indicating which tokens are padding and which aren't (seems kind of redundant, doesn't it?! Again, I don't currently know why).\n",
        "\n",
        "I've experimented with running this notebook with two different values of MAX_LEN, and it impacted both the training speed and the  test set accuracy.\n",
        "\n",
        "With a Tesla K80 and:\n",
        "\n",
        "```\n",
        "MAX_LEN = 128  -->  Training epochs take ~5:28 each, score is 0.535\n",
        "MAX_LEN = 64   -->  Training epochs take ~2:57 each, score is 0.566\n",
        "```\n",
        "These results suggest to me that the padding tokens aren't simply skipped over--that they are in fact fed through the model and incorporated in the results (thereby impacting both model speed and accuracy). I'll have to dig into the architecture more to understand this.\n",
        "\n",
        "\n",
        "\n",
        "## 3.2. Sentences to IDs\n",
        "\n",
        "The `tokenizer.encode` function combines multiple steps for us:\n",
        "1. Split the sentence into tokens.\n",
        "2. Add the special `[CLS]` and `[SEP]` tokens.\n",
        "3. Map the tokens to their IDs.\n",
        "\n",
        "Oddly, this function can perform truncating for us, but doesn't handle padding. \n",
        "\n"
      ],
      "metadata": {
        "id": "_IH8MCYz0poa"
      },
      "id": "_IH8MCYz0poa"
    },
    {
      "cell_type": "code",
      "execution_count": null,
      "id": "9b9ce396",
      "metadata": {
        "execution": {
          "iopub.execute_input": "2021-12-20T15:00:55.992771Z",
          "iopub.status.busy": "2021-12-20T15:00:55.991585Z",
          "iopub.status.idle": "2021-12-20T15:03:05.599955Z",
          "shell.execute_reply": "2021-12-20T15:03:05.600823Z",
          "shell.execute_reply.started": "2021-12-20T13:39:33.163324Z"
        },
        "id": "9b9ce396",
        "outputId": "8b8e6996-34de-4b5e-ed2b-886db4db392f",
        "papermill": {
          "duration": 129.665767,
          "end_time": "2021-12-20T15:03:05.601146",
          "exception": false,
          "start_time": "2021-12-20T15:00:55.935379",
          "status": "completed"
        },
        "tags": [],
        "colab": {
          "referenced_widgets": [
            "d3eb31f6ae6647a3a2c3e335a00a4b60"
          ]
        }
      },
      "outputs": [
        {
          "data": {
            "application/vnd.jupyter.widget-view+json": {
              "model_id": "d3eb31f6ae6647a3a2c3e335a00a4b60",
              "version_major": 2,
              "version_minor": 0
            },
            "text/plain": [
              "  0%|          | 0/237779 [00:00<?, ?it/s]"
            ]
          },
          "metadata": {},
          "output_type": "display_data"
        },
        {
          "name": "stdout",
          "output_type": "stream",
          "text": [
            "Original:  Могут ли в россельхозбанке дать в залог норковых шуб помогите пожалуйста\n",
            "Token IDs: [101, 73459, 11089, 845, 13605, 1644, 10936, 91106, 18769, 845, 27087, 66081, 17090, 110836, 844, 11567, 13185, 114408, 102]\n"
          ]
        }
      ],
      "source": [
        "from tqdm.auto import tqdm\n",
        "# Tokenize all of the sentences and map the tokens to thier word IDs.\n",
        "input_ids = []\n",
        "\n",
        "# For every sentence...\n",
        "for sent in tqdm(sentences, total=len(sentences)):\n",
        "    # `encode` will:\n",
        "    #   (1) Tokenize the sentence.\n",
        "    #   (2) Prepend the `[CLS]` token to the start.\n",
        "    #   (3) Append the `[SEP]` token to the end.\n",
        "    #   (4) Map tokens to their IDs.\n",
        "    encoded_sent = tokenizer.encode(\n",
        "                        sent,                      # Sentence to encode.\n",
        "                        add_special_tokens = True, # Add '[CLS]' and '[SEP]'\n",
        "\n",
        "                        # This function also supports truncation and conversion\n",
        "                        # to pytorch tensors, but we need to do padding, so we\n",
        "                        # can't use these features :( .\n",
        "                        #max_length = 128,          # Truncate all sentences.\n",
        "                        #return_tensors = 'pt',     # Return pytorch tensors.\n",
        "                   )\n",
        "    \n",
        "    # Add the encoded sentence to the list.\n",
        "    input_ids.append(encoded_sent)\n",
        "\n",
        "# Print sentence 0, now as a list of IDs.\n",
        "print('Original: ', sentences[0])\n",
        "print('Token IDs:', input_ids[0])"
      ]
    },
    {
      "cell_type": "markdown",
      "source": [
        "## 3.3. Padding & Truncating\n",
        "\n",
        "Pad and truncate our sequences so that they all have the same length, `MAX_LEN`.\n",
        "\n",
        "First, what's the maximum sentence length in our dataset?"
      ],
      "metadata": {
        "id": "qndL-5yv1Jac"
      },
      "id": "qndL-5yv1Jac"
    },
    {
      "cell_type": "code",
      "execution_count": null,
      "id": "be7a88e1",
      "metadata": {
        "execution": {
          "iopub.execute_input": "2021-12-20T15:03:05.716166Z",
          "iopub.status.busy": "2021-12-20T15:03:05.714769Z",
          "iopub.status.idle": "2021-12-20T15:03:05.719430Z",
          "shell.execute_reply": "2021-12-20T15:03:05.718513Z",
          "shell.execute_reply.started": "2021-12-20T13:41:43.142687Z"
        },
        "id": "be7a88e1",
        "outputId": "0033dfa0-e374-4ec1-e051-b5a2c37f768d",
        "papermill": {
          "duration": 0.082107,
          "end_time": "2021-12-20T15:03:05.719743",
          "exception": false,
          "start_time": "2021-12-20T15:03:05.637636",
          "status": "completed"
        },
        "tags": []
      },
      "outputs": [
        {
          "name": "stdout",
          "output_type": "stream",
          "text": [
            "Max sentence length:  78\n"
          ]
        }
      ],
      "source": [
        "print('Max sentence length: ', max([len(sen) for sen in input_ids]))"
      ]
    },
    {
      "cell_type": "code",
      "execution_count": null,
      "id": "eba3f927",
      "metadata": {
        "execution": {
          "iopub.execute_input": "2021-12-20T15:03:05.801472Z",
          "iopub.status.busy": "2021-12-20T15:03:05.800295Z",
          "iopub.status.idle": "2021-12-20T15:03:05.802951Z",
          "shell.execute_reply": "2021-12-20T15:03:05.803488Z",
          "shell.execute_reply.started": "2021-12-20T13:41:43.192568Z"
        },
        "papermill": {
          "duration": 0.045081,
          "end_time": "2021-12-20T15:03:05.803683",
          "exception": false,
          "start_time": "2021-12-20T15:03:05.758602",
          "status": "completed"
        },
        "tags": [],
        "id": "eba3f927"
      },
      "outputs": [],
      "source": [
        "MAX_LEN = 78"
      ]
    },
    {
      "cell_type": "markdown",
      "source": [
        "Given that, let's choose MAX_LEN = 64 and apply the padding."
      ],
      "metadata": {
        "id": "6I2I1wu81QDT"
      },
      "id": "6I2I1wu81QDT"
    },
    {
      "cell_type": "code",
      "execution_count": null,
      "id": "8025c1f0",
      "metadata": {
        "execution": {
          "iopub.execute_input": "2021-12-20T15:03:05.895602Z",
          "iopub.status.busy": "2021-12-20T15:03:05.890247Z",
          "iopub.status.idle": "2021-12-20T15:03:08.127115Z",
          "shell.execute_reply": "2021-12-20T15:03:08.127938Z",
          "shell.execute_reply.started": "2021-12-20T13:41:43.201465Z"
        },
        "id": "8025c1f0",
        "outputId": "d2b4ab05-54c6-4737-cee3-6e17611c5ae0",
        "papermill": {
          "duration": 2.288996,
          "end_time": "2021-12-20T15:03:08.128261",
          "exception": false,
          "start_time": "2021-12-20T15:03:05.839265",
          "status": "completed"
        },
        "tags": []
      },
      "outputs": [
        {
          "name": "stdout",
          "output_type": "stream",
          "text": [
            "\n",
            "Padding/truncating all sentences to 78 values...\n",
            "\n",
            "Padding token: \"[PAD]\", ID: 0\n",
            "\n",
            "Done.\n"
          ]
        }
      ],
      "source": [
        "# We'll borrow the `pad_sequences` utility function to do this.\n",
        "from keras.preprocessing.sequence import pad_sequences\n",
        "\n",
        "\n",
        "print('\\nPadding/truncating all sentences to %d values...' % MAX_LEN)\n",
        "\n",
        "print('\\nPadding token: \"{:}\", ID: {:}'.format(tokenizer.pad_token, tokenizer.pad_token_id))\n",
        "\n",
        "# Pad our input tokens with value 0.\n",
        "# \"post\" indicates that we want to pad and truncate at the end of the sequence,\n",
        "# as opposed to the beginning.\n",
        "input_ids = pad_sequences(input_ids, maxlen=MAX_LEN, dtype=\"long\", \n",
        "                          value=0, truncating=\"post\", padding=\"post\")\n",
        "\n",
        "print('\\nDone.')"
      ]
    },
    {
      "cell_type": "markdown",
      "source": [
        "## 3.4. Attention Masks\n",
        "\n",
        "The attention mask simply makes it explicit which tokens are actual words versus which are padding. \n",
        "\n",
        "The BERT vocabulary does not use the ID 0, so if a token ID is 0, then it's padding, and otherwise it's a real token."
      ],
      "metadata": {
        "id": "KNsW-l892Qxv"
      },
      "id": "KNsW-l892Qxv"
    },
    {
      "cell_type": "code",
      "execution_count": null,
      "id": "a4677e6d",
      "metadata": {
        "execution": {
          "iopub.execute_input": "2021-12-20T15:03:08.219298Z",
          "iopub.status.busy": "2021-12-20T15:03:08.218192Z",
          "iopub.status.idle": "2021-12-20T15:03:30.355410Z",
          "shell.execute_reply": "2021-12-20T15:03:30.355916Z",
          "shell.execute_reply.started": "2021-12-20T13:41:45.408135Z"
        },
        "id": "a4677e6d",
        "papermill": {
          "duration": 22.189762,
          "end_time": "2021-12-20T15:03:30.356107",
          "exception": false,
          "start_time": "2021-12-20T15:03:08.166345",
          "status": "completed"
        },
        "tags": []
      },
      "outputs": [],
      "source": [
        "# Create attention masks\n",
        "attention_masks = []\n",
        "\n",
        "# For each sentence...\n",
        "for sent in input_ids:\n",
        "    \n",
        "    # Create the attention mask.\n",
        "    #   - If a token ID is 0, then it's padding, set the mask to 0.\n",
        "    #   - If a token ID is > 0, then it's a real token, set the mask to 1.\n",
        "    att_mask = [int(token_id > 0) for token_id in sent]\n",
        "    \n",
        "    # Store the attention mask for this sentence.\n",
        "    attention_masks.append(att_mask)"
      ]
    },
    {
      "cell_type": "markdown",
      "source": [
        "## 3.5. Training & Validation Split\n",
        "\n",
        "Divide up our training set to use 90% for training and 10% for validation."
      ],
      "metadata": {
        "id": "hLVIzB7U2VI-"
      },
      "id": "hLVIzB7U2VI-"
    },
    {
      "cell_type": "code",
      "execution_count": null,
      "id": "946a0146",
      "metadata": {
        "execution": {
          "iopub.execute_input": "2021-12-20T15:03:30.436056Z",
          "iopub.status.busy": "2021-12-20T15:03:30.435261Z",
          "iopub.status.idle": "2021-12-20T15:03:30.640598Z",
          "shell.execute_reply": "2021-12-20T15:03:30.639909Z",
          "shell.execute_reply.started": "2021-12-20T13:42:07.204141Z"
        },
        "papermill": {
          "duration": 0.248455,
          "end_time": "2021-12-20T15:03:30.640782",
          "exception": false,
          "start_time": "2021-12-20T15:03:30.392327",
          "status": "completed"
        },
        "tags": [],
        "id": "946a0146"
      },
      "outputs": [],
      "source": [
        "# Use 90% for training and 10% for validation.\n",
        "train_inputs, validation_inputs, train_labels, validation_labels = train_test_split(input_ids, labels, \n",
        "                                                            random_state=42, test_size=0.1, stratify=labels)\n",
        "# Do the same for the masks.\n",
        "train_masks, validation_masks, _, _ = train_test_split(attention_masks, labels,\n",
        "                                             random_state=42, test_size=0.1, stratify=labels)"
      ]
    },
    {
      "cell_type": "code",
      "execution_count": null,
      "id": "9efd1dd7",
      "metadata": {
        "execution": {
          "iopub.execute_input": "2021-12-20T15:03:33.673991Z",
          "iopub.status.busy": "2021-12-20T15:03:33.673013Z",
          "iopub.status.idle": "2021-12-20T15:03:33.676818Z",
          "shell.execute_reply": "2021-12-20T15:03:33.677311Z",
          "shell.execute_reply.started": "2021-12-20T13:42:09.871988Z"
        },
        "papermill": {
          "duration": 0.047597,
          "end_time": "2021-12-20T15:03:33.677553",
          "exception": false,
          "start_time": "2021-12-20T15:03:33.629956",
          "status": "completed"
        },
        "tags": [],
        "id": "9efd1dd7",
        "outputId": "0a4968bc-2f03-407d-deda-464cdcc1d471"
      },
      "outputs": [
        {
          "data": {
            "text/plain": [
              "21400"
            ]
          },
          "execution_count": 18,
          "metadata": {},
          "output_type": "execute_result"
        }
      ],
      "source": [
        "len(train_inputs)"
      ]
    },
    {
      "cell_type": "markdown",
      "source": [
        "## 3.6. Converting to PyTorch Data Types"
      ],
      "metadata": {
        "id": "arFstbpu2b4v"
      },
      "id": "arFstbpu2b4v"
    },
    {
      "cell_type": "code",
      "execution_count": null,
      "id": "7ff49fe1",
      "metadata": {
        "execution": {
          "iopub.execute_input": "2021-12-20T15:03:33.759104Z",
          "iopub.status.busy": "2021-12-20T15:03:33.758342Z",
          "iopub.status.idle": "2021-12-20T15:03:34.229173Z",
          "shell.execute_reply": "2021-12-20T15:03:34.228508Z",
          "shell.execute_reply.started": "2021-12-20T13:42:09.889443Z"
        },
        "id": "7ff49fe1",
        "papermill": {
          "duration": 0.515824,
          "end_time": "2021-12-20T15:03:34.229386",
          "exception": false,
          "start_time": "2021-12-20T15:03:33.713562",
          "status": "completed"
        },
        "tags": []
      },
      "outputs": [],
      "source": [
        "# Convert all inputs and labels into torch tensors, the required datatype \n",
        "# for our model.\n",
        "train_inputs = torch.tensor(train_inputs)\n",
        "validation_inputs = torch.tensor(validation_inputs)\n",
        "\n",
        "train_labels = torch.tensor(train_labels)\n",
        "validation_labels = torch.tensor(validation_labels)\n",
        "\n",
        "train_masks = torch.tensor(train_masks)\n",
        "validation_masks = torch.tensor(validation_masks)"
      ]
    },
    {
      "cell_type": "markdown",
      "source": [
        "We'll also create an iterator for our dataset using the torch DataLoader class. This helps save on memory during training because, unlike a for loop, with an iterator the entire dataset does not need to be loaded into memory."
      ],
      "metadata": {
        "id": "lgChC2B82et1"
      },
      "id": "lgChC2B82et1"
    },
    {
      "cell_type": "code",
      "execution_count": null,
      "id": "c576c404",
      "metadata": {
        "execution": {
          "iopub.execute_input": "2021-12-20T15:03:34.311414Z",
          "iopub.status.busy": "2021-12-20T15:03:34.310415Z",
          "iopub.status.idle": "2021-12-20T15:03:34.313890Z",
          "shell.execute_reply": "2021-12-20T15:03:34.313298Z",
          "shell.execute_reply.started": "2021-12-20T13:42:10.384311Z"
        },
        "id": "c576c404",
        "papermill": {
          "duration": 0.046833,
          "end_time": "2021-12-20T15:03:34.314076",
          "exception": false,
          "start_time": "2021-12-20T15:03:34.267243",
          "status": "completed"
        },
        "tags": []
      },
      "outputs": [],
      "source": [
        "from torch.utils.data import TensorDataset, DataLoader, RandomSampler, SequentialSampler\n",
        "\n",
        "# The DataLoader needs to know our batch size for training, so we specify it \n",
        "# here.\n",
        "# For fine-tuning BERT on a specific task, the authors recommend a batch size of\n",
        "# 16 or 32.\n",
        "\n",
        "batch_size = 64\n",
        "\n",
        "# Create the DataLoader for our training set.\n",
        "train_data = TensorDataset(train_inputs, train_masks, train_labels)\n",
        "train_sampler = RandomSampler(train_data)\n",
        "train_dataloader = DataLoader(train_data, sampler=train_sampler, batch_size=batch_size)\n",
        "\n",
        "# Create the DataLoader for our validation set.\n",
        "validation_data = TensorDataset(validation_inputs, validation_masks, validation_labels)\n",
        "validation_sampler = SequentialSampler(validation_data)\n",
        "validation_dataloader = DataLoader(validation_data, sampler=validation_sampler, batch_size=batch_size)\n"
      ]
    },
    {
      "cell_type": "markdown",
      "source": [
        "# 4. Train Our Classification Model\n",
        "\n",
        "Now that our input data is properly formatted, it's time to fine tune the BERT model. \n",
        "\n",
        "## 4.1. BertForSequenceClassification\n",
        "\n",
        "For this task, we first want to modify the pre-trained BERT model to give outputs for classification, and then we want to continue training the model on our dataset until that the entire model, end-to-end, is well-suited for our task. \n",
        "\n",
        "Thankfully, the huggingface pytorch implementation includes a set of interfaces designed for a variety of NLP tasks. Though these interfaces are all built on top of a trained BERT model, each has different top layers and output types designed to accomodate their specific NLP task.  \n",
        "\n",
        "Here is the current list of classes provided for fine-tuning:\n",
        "* BertModel\n",
        "* BertForPreTraining\n",
        "* BertForMaskedLM\n",
        "* BertForNextSentencePrediction\n",
        "* **BertForSequenceClassification** - The one we'll use.\n",
        "* BertForTokenClassification\n",
        "* BertForQuestionAnswering\n",
        "\n",
        "The documentation for these can be found under [here](https://huggingface.co/transformers/v2.2.0/model_doc/bert.html).\n",
        "\n",
        "\n",
        "\n",
        "We'll be using [BertForSequenceClassification](https://huggingface.co/transformers/v2.2.0/model_doc/bert.html#bertforsequenceclassification). This is the normal BERT model with an added single linear layer on top for classification that we will use as a sentence classifier. As we feed input data, the entire pre-trained BERT model and the additional untrained classification layer is trained on our specific task. \n",
        "\n",
        "\n",
        "OK, let's load BERT! There are a few different pre-trained BERT models available. \"bert-base-uncased\" means the version that has only lowercase letters (\"uncased\") and is the smaller version of the two (\"base\" vs \"large\").\n",
        "\n",
        "The documentation for `from_pretrained` can be found [here](https://huggingface.co/transformers/v2.2.0/main_classes/model.html#transformers.PreTrainedModel.from_pretrained), with the additional parameters defined [here](https://huggingface.co/transformers/v2.2.0/main_classes/configuration.html#transformers.PretrainedConfig)."
      ],
      "metadata": {
        "id": "4jwRo-qx2h6c"
      },
      "id": "4jwRo-qx2h6c"
    },
    {
      "cell_type": "code",
      "execution_count": null,
      "id": "bd0624b5",
      "metadata": {
        "execution": {
          "iopub.execute_input": "2021-12-20T15:03:34.458057Z",
          "iopub.status.busy": "2021-12-20T15:03:34.456999Z",
          "iopub.status.idle": "2021-12-20T15:04:09.171609Z",
          "shell.execute_reply": "2021-12-20T15:04:09.172189Z",
          "shell.execute_reply.started": "2021-12-20T14:33:41.521403Z"
        },
        "id": "bd0624b5",
        "outputId": "63bd4f44-0780-4eb9-dbba-abaa4608221c",
        "papermill": {
          "duration": 34.808227,
          "end_time": "2021-12-20T15:04:09.172404",
          "exception": false,
          "start_time": "2021-12-20T15:03:34.364177",
          "status": "completed"
        },
        "tags": [],
        "colab": {
          "referenced_widgets": [
            "e9f88876ff804f54a20cad86ea354b9c"
          ]
        }
      },
      "outputs": [
        {
          "data": {
            "application/vnd.jupyter.widget-view+json": {
              "model_id": "e9f88876ff804f54a20cad86ea354b9c",
              "version_major": 2,
              "version_minor": 0
            },
            "text/plain": [
              "Downloading:   0%|          | 0.00/681M [00:00<?, ?B/s]"
            ]
          },
          "metadata": {},
          "output_type": "display_data"
        },
        {
          "name": "stderr",
          "output_type": "stream",
          "text": [
            "Some weights of the model checkpoint at DeepPavlov/rubert-base-cased were not used when initializing BertForSequenceClassification: ['cls.predictions.transform.dense.bias', 'cls.predictions.decoder.weight', 'cls.seq_relationship.weight', 'cls.predictions.transform.dense.weight', 'cls.predictions.decoder.bias', 'cls.predictions.transform.LayerNorm.weight', 'cls.predictions.bias', 'cls.seq_relationship.bias', 'cls.predictions.transform.LayerNorm.bias']\n",
            "- This IS expected if you are initializing BertForSequenceClassification from the checkpoint of a model trained on another task or with another architecture (e.g. initializing a BertForSequenceClassification model from a BertForPreTraining model).\n",
            "- This IS NOT expected if you are initializing BertForSequenceClassification from the checkpoint of a model that you expect to be exactly identical (initializing a BertForSequenceClassification model from a BertForSequenceClassification model).\n",
            "Some weights of BertForSequenceClassification were not initialized from the model checkpoint at DeepPavlov/rubert-base-cased and are newly initialized: ['classifier.bias', 'classifier.weight']\n",
            "You should probably TRAIN this model on a down-stream task to be able to use it for predictions and inference.\n"
          ]
        },
        {
          "data": {
            "text/plain": [
              "BertForSequenceClassification(\n",
              "  (bert): BertModel(\n",
              "    (embeddings): BertEmbeddings(\n",
              "      (word_embeddings): Embedding(119547, 768, padding_idx=0)\n",
              "      (position_embeddings): Embedding(512, 768)\n",
              "      (token_type_embeddings): Embedding(2, 768)\n",
              "      (LayerNorm): LayerNorm((768,), eps=1e-12, elementwise_affine=True)\n",
              "      (dropout): Dropout(p=0.1, inplace=False)\n",
              "    )\n",
              "    (encoder): BertEncoder(\n",
              "      (layer): ModuleList(\n",
              "        (0): BertLayer(\n",
              "          (attention): BertAttention(\n",
              "            (self): BertSelfAttention(\n",
              "              (query): Linear(in_features=768, out_features=768, bias=True)\n",
              "              (key): Linear(in_features=768, out_features=768, bias=True)\n",
              "              (value): Linear(in_features=768, out_features=768, bias=True)\n",
              "              (dropout): Dropout(p=0.1, inplace=False)\n",
              "            )\n",
              "            (output): BertSelfOutput(\n",
              "              (dense): Linear(in_features=768, out_features=768, bias=True)\n",
              "              (LayerNorm): LayerNorm((768,), eps=1e-12, elementwise_affine=True)\n",
              "              (dropout): Dropout(p=0.1, inplace=False)\n",
              "            )\n",
              "          )\n",
              "          (intermediate): BertIntermediate(\n",
              "            (dense): Linear(in_features=768, out_features=3072, bias=True)\n",
              "          )\n",
              "          (output): BertOutput(\n",
              "            (dense): Linear(in_features=3072, out_features=768, bias=True)\n",
              "            (LayerNorm): LayerNorm((768,), eps=1e-12, elementwise_affine=True)\n",
              "            (dropout): Dropout(p=0.1, inplace=False)\n",
              "          )\n",
              "        )\n",
              "        (1): BertLayer(\n",
              "          (attention): BertAttention(\n",
              "            (self): BertSelfAttention(\n",
              "              (query): Linear(in_features=768, out_features=768, bias=True)\n",
              "              (key): Linear(in_features=768, out_features=768, bias=True)\n",
              "              (value): Linear(in_features=768, out_features=768, bias=True)\n",
              "              (dropout): Dropout(p=0.1, inplace=False)\n",
              "            )\n",
              "            (output): BertSelfOutput(\n",
              "              (dense): Linear(in_features=768, out_features=768, bias=True)\n",
              "              (LayerNorm): LayerNorm((768,), eps=1e-12, elementwise_affine=True)\n",
              "              (dropout): Dropout(p=0.1, inplace=False)\n",
              "            )\n",
              "          )\n",
              "          (intermediate): BertIntermediate(\n",
              "            (dense): Linear(in_features=768, out_features=3072, bias=True)\n",
              "          )\n",
              "          (output): BertOutput(\n",
              "            (dense): Linear(in_features=3072, out_features=768, bias=True)\n",
              "            (LayerNorm): LayerNorm((768,), eps=1e-12, elementwise_affine=True)\n",
              "            (dropout): Dropout(p=0.1, inplace=False)\n",
              "          )\n",
              "        )\n",
              "        (2): BertLayer(\n",
              "          (attention): BertAttention(\n",
              "            (self): BertSelfAttention(\n",
              "              (query): Linear(in_features=768, out_features=768, bias=True)\n",
              "              (key): Linear(in_features=768, out_features=768, bias=True)\n",
              "              (value): Linear(in_features=768, out_features=768, bias=True)\n",
              "              (dropout): Dropout(p=0.1, inplace=False)\n",
              "            )\n",
              "            (output): BertSelfOutput(\n",
              "              (dense): Linear(in_features=768, out_features=768, bias=True)\n",
              "              (LayerNorm): LayerNorm((768,), eps=1e-12, elementwise_affine=True)\n",
              "              (dropout): Dropout(p=0.1, inplace=False)\n",
              "            )\n",
              "          )\n",
              "          (intermediate): BertIntermediate(\n",
              "            (dense): Linear(in_features=768, out_features=3072, bias=True)\n",
              "          )\n",
              "          (output): BertOutput(\n",
              "            (dense): Linear(in_features=3072, out_features=768, bias=True)\n",
              "            (LayerNorm): LayerNorm((768,), eps=1e-12, elementwise_affine=True)\n",
              "            (dropout): Dropout(p=0.1, inplace=False)\n",
              "          )\n",
              "        )\n",
              "        (3): BertLayer(\n",
              "          (attention): BertAttention(\n",
              "            (self): BertSelfAttention(\n",
              "              (query): Linear(in_features=768, out_features=768, bias=True)\n",
              "              (key): Linear(in_features=768, out_features=768, bias=True)\n",
              "              (value): Linear(in_features=768, out_features=768, bias=True)\n",
              "              (dropout): Dropout(p=0.1, inplace=False)\n",
              "            )\n",
              "            (output): BertSelfOutput(\n",
              "              (dense): Linear(in_features=768, out_features=768, bias=True)\n",
              "              (LayerNorm): LayerNorm((768,), eps=1e-12, elementwise_affine=True)\n",
              "              (dropout): Dropout(p=0.1, inplace=False)\n",
              "            )\n",
              "          )\n",
              "          (intermediate): BertIntermediate(\n",
              "            (dense): Linear(in_features=768, out_features=3072, bias=True)\n",
              "          )\n",
              "          (output): BertOutput(\n",
              "            (dense): Linear(in_features=3072, out_features=768, bias=True)\n",
              "            (LayerNorm): LayerNorm((768,), eps=1e-12, elementwise_affine=True)\n",
              "            (dropout): Dropout(p=0.1, inplace=False)\n",
              "          )\n",
              "        )\n",
              "        (4): BertLayer(\n",
              "          (attention): BertAttention(\n",
              "            (self): BertSelfAttention(\n",
              "              (query): Linear(in_features=768, out_features=768, bias=True)\n",
              "              (key): Linear(in_features=768, out_features=768, bias=True)\n",
              "              (value): Linear(in_features=768, out_features=768, bias=True)\n",
              "              (dropout): Dropout(p=0.1, inplace=False)\n",
              "            )\n",
              "            (output): BertSelfOutput(\n",
              "              (dense): Linear(in_features=768, out_features=768, bias=True)\n",
              "              (LayerNorm): LayerNorm((768,), eps=1e-12, elementwise_affine=True)\n",
              "              (dropout): Dropout(p=0.1, inplace=False)\n",
              "            )\n",
              "          )\n",
              "          (intermediate): BertIntermediate(\n",
              "            (dense): Linear(in_features=768, out_features=3072, bias=True)\n",
              "          )\n",
              "          (output): BertOutput(\n",
              "            (dense): Linear(in_features=3072, out_features=768, bias=True)\n",
              "            (LayerNorm): LayerNorm((768,), eps=1e-12, elementwise_affine=True)\n",
              "            (dropout): Dropout(p=0.1, inplace=False)\n",
              "          )\n",
              "        )\n",
              "        (5): BertLayer(\n",
              "          (attention): BertAttention(\n",
              "            (self): BertSelfAttention(\n",
              "              (query): Linear(in_features=768, out_features=768, bias=True)\n",
              "              (key): Linear(in_features=768, out_features=768, bias=True)\n",
              "              (value): Linear(in_features=768, out_features=768, bias=True)\n",
              "              (dropout): Dropout(p=0.1, inplace=False)\n",
              "            )\n",
              "            (output): BertSelfOutput(\n",
              "              (dense): Linear(in_features=768, out_features=768, bias=True)\n",
              "              (LayerNorm): LayerNorm((768,), eps=1e-12, elementwise_affine=True)\n",
              "              (dropout): Dropout(p=0.1, inplace=False)\n",
              "            )\n",
              "          )\n",
              "          (intermediate): BertIntermediate(\n",
              "            (dense): Linear(in_features=768, out_features=3072, bias=True)\n",
              "          )\n",
              "          (output): BertOutput(\n",
              "            (dense): Linear(in_features=3072, out_features=768, bias=True)\n",
              "            (LayerNorm): LayerNorm((768,), eps=1e-12, elementwise_affine=True)\n",
              "            (dropout): Dropout(p=0.1, inplace=False)\n",
              "          )\n",
              "        )\n",
              "        (6): BertLayer(\n",
              "          (attention): BertAttention(\n",
              "            (self): BertSelfAttention(\n",
              "              (query): Linear(in_features=768, out_features=768, bias=True)\n",
              "              (key): Linear(in_features=768, out_features=768, bias=True)\n",
              "              (value): Linear(in_features=768, out_features=768, bias=True)\n",
              "              (dropout): Dropout(p=0.1, inplace=False)\n",
              "            )\n",
              "            (output): BertSelfOutput(\n",
              "              (dense): Linear(in_features=768, out_features=768, bias=True)\n",
              "              (LayerNorm): LayerNorm((768,), eps=1e-12, elementwise_affine=True)\n",
              "              (dropout): Dropout(p=0.1, inplace=False)\n",
              "            )\n",
              "          )\n",
              "          (intermediate): BertIntermediate(\n",
              "            (dense): Linear(in_features=768, out_features=3072, bias=True)\n",
              "          )\n",
              "          (output): BertOutput(\n",
              "            (dense): Linear(in_features=3072, out_features=768, bias=True)\n",
              "            (LayerNorm): LayerNorm((768,), eps=1e-12, elementwise_affine=True)\n",
              "            (dropout): Dropout(p=0.1, inplace=False)\n",
              "          )\n",
              "        )\n",
              "        (7): BertLayer(\n",
              "          (attention): BertAttention(\n",
              "            (self): BertSelfAttention(\n",
              "              (query): Linear(in_features=768, out_features=768, bias=True)\n",
              "              (key): Linear(in_features=768, out_features=768, bias=True)\n",
              "              (value): Linear(in_features=768, out_features=768, bias=True)\n",
              "              (dropout): Dropout(p=0.1, inplace=False)\n",
              "            )\n",
              "            (output): BertSelfOutput(\n",
              "              (dense): Linear(in_features=768, out_features=768, bias=True)\n",
              "              (LayerNorm): LayerNorm((768,), eps=1e-12, elementwise_affine=True)\n",
              "              (dropout): Dropout(p=0.1, inplace=False)\n",
              "            )\n",
              "          )\n",
              "          (intermediate): BertIntermediate(\n",
              "            (dense): Linear(in_features=768, out_features=3072, bias=True)\n",
              "          )\n",
              "          (output): BertOutput(\n",
              "            (dense): Linear(in_features=3072, out_features=768, bias=True)\n",
              "            (LayerNorm): LayerNorm((768,), eps=1e-12, elementwise_affine=True)\n",
              "            (dropout): Dropout(p=0.1, inplace=False)\n",
              "          )\n",
              "        )\n",
              "        (8): BertLayer(\n",
              "          (attention): BertAttention(\n",
              "            (self): BertSelfAttention(\n",
              "              (query): Linear(in_features=768, out_features=768, bias=True)\n",
              "              (key): Linear(in_features=768, out_features=768, bias=True)\n",
              "              (value): Linear(in_features=768, out_features=768, bias=True)\n",
              "              (dropout): Dropout(p=0.1, inplace=False)\n",
              "            )\n",
              "            (output): BertSelfOutput(\n",
              "              (dense): Linear(in_features=768, out_features=768, bias=True)\n",
              "              (LayerNorm): LayerNorm((768,), eps=1e-12, elementwise_affine=True)\n",
              "              (dropout): Dropout(p=0.1, inplace=False)\n",
              "            )\n",
              "          )\n",
              "          (intermediate): BertIntermediate(\n",
              "            (dense): Linear(in_features=768, out_features=3072, bias=True)\n",
              "          )\n",
              "          (output): BertOutput(\n",
              "            (dense): Linear(in_features=3072, out_features=768, bias=True)\n",
              "            (LayerNorm): LayerNorm((768,), eps=1e-12, elementwise_affine=True)\n",
              "            (dropout): Dropout(p=0.1, inplace=False)\n",
              "          )\n",
              "        )\n",
              "        (9): BertLayer(\n",
              "          (attention): BertAttention(\n",
              "            (self): BertSelfAttention(\n",
              "              (query): Linear(in_features=768, out_features=768, bias=True)\n",
              "              (key): Linear(in_features=768, out_features=768, bias=True)\n",
              "              (value): Linear(in_features=768, out_features=768, bias=True)\n",
              "              (dropout): Dropout(p=0.1, inplace=False)\n",
              "            )\n",
              "            (output): BertSelfOutput(\n",
              "              (dense): Linear(in_features=768, out_features=768, bias=True)\n",
              "              (LayerNorm): LayerNorm((768,), eps=1e-12, elementwise_affine=True)\n",
              "              (dropout): Dropout(p=0.1, inplace=False)\n",
              "            )\n",
              "          )\n",
              "          (intermediate): BertIntermediate(\n",
              "            (dense): Linear(in_features=768, out_features=3072, bias=True)\n",
              "          )\n",
              "          (output): BertOutput(\n",
              "            (dense): Linear(in_features=3072, out_features=768, bias=True)\n",
              "            (LayerNorm): LayerNorm((768,), eps=1e-12, elementwise_affine=True)\n",
              "            (dropout): Dropout(p=0.1, inplace=False)\n",
              "          )\n",
              "        )\n",
              "        (10): BertLayer(\n",
              "          (attention): BertAttention(\n",
              "            (self): BertSelfAttention(\n",
              "              (query): Linear(in_features=768, out_features=768, bias=True)\n",
              "              (key): Linear(in_features=768, out_features=768, bias=True)\n",
              "              (value): Linear(in_features=768, out_features=768, bias=True)\n",
              "              (dropout): Dropout(p=0.1, inplace=False)\n",
              "            )\n",
              "            (output): BertSelfOutput(\n",
              "              (dense): Linear(in_features=768, out_features=768, bias=True)\n",
              "              (LayerNorm): LayerNorm((768,), eps=1e-12, elementwise_affine=True)\n",
              "              (dropout): Dropout(p=0.1, inplace=False)\n",
              "            )\n",
              "          )\n",
              "          (intermediate): BertIntermediate(\n",
              "            (dense): Linear(in_features=768, out_features=3072, bias=True)\n",
              "          )\n",
              "          (output): BertOutput(\n",
              "            (dense): Linear(in_features=3072, out_features=768, bias=True)\n",
              "            (LayerNorm): LayerNorm((768,), eps=1e-12, elementwise_affine=True)\n",
              "            (dropout): Dropout(p=0.1, inplace=False)\n",
              "          )\n",
              "        )\n",
              "        (11): BertLayer(\n",
              "          (attention): BertAttention(\n",
              "            (self): BertSelfAttention(\n",
              "              (query): Linear(in_features=768, out_features=768, bias=True)\n",
              "              (key): Linear(in_features=768, out_features=768, bias=True)\n",
              "              (value): Linear(in_features=768, out_features=768, bias=True)\n",
              "              (dropout): Dropout(p=0.1, inplace=False)\n",
              "            )\n",
              "            (output): BertSelfOutput(\n",
              "              (dense): Linear(in_features=768, out_features=768, bias=True)\n",
              "              (LayerNorm): LayerNorm((768,), eps=1e-12, elementwise_affine=True)\n",
              "              (dropout): Dropout(p=0.1, inplace=False)\n",
              "            )\n",
              "          )\n",
              "          (intermediate): BertIntermediate(\n",
              "            (dense): Linear(in_features=768, out_features=3072, bias=True)\n",
              "          )\n",
              "          (output): BertOutput(\n",
              "            (dense): Linear(in_features=3072, out_features=768, bias=True)\n",
              "            (LayerNorm): LayerNorm((768,), eps=1e-12, elementwise_affine=True)\n",
              "            (dropout): Dropout(p=0.1, inplace=False)\n",
              "          )\n",
              "        )\n",
              "      )\n",
              "    )\n",
              "    (pooler): BertPooler(\n",
              "      (dense): Linear(in_features=768, out_features=768, bias=True)\n",
              "      (activation): Tanh()\n",
              "    )\n",
              "  )\n",
              "  (dropout): Dropout(p=0.1, inplace=False)\n",
              "  (classifier): Linear(in_features=768, out_features=5, bias=True)\n",
              ")"
            ]
          },
          "execution_count": 21,
          "metadata": {},
          "output_type": "execute_result"
        }
      ],
      "source": [
        "from transformers import BertForSequenceClassification, AdamW, BertConfig\n",
        "\n",
        "# Load BertForSequenceClassification, the pretrained BERT model with a single \n",
        "# linear classification layer on top. \n",
        "model = BertForSequenceClassification.from_pretrained(\n",
        "    \"DeepPavlov/rubert-base-cased\",\n",
        "    num_labels = len(data.category.unique()), # The number of output labels--2 for binary classification.\n",
        "                    # You can increase this for multi-class tasks.   \n",
        "    output_attentions = False, # Whether the model returns attentions weights.\n",
        "    output_hidden_states = False, # Whether the model returns all hidden-states.\n",
        ")\n",
        "\n",
        "# Tell pytorch to run this model on the GPU.\n",
        "model.cuda()"
      ]
    },
    {
      "cell_type": "markdown",
      "source": [
        "Just for curiosity's sake, we can browse all of the model's parameters by name here.\n",
        "\n",
        "In the below cell, I've printed out the names and dimensions of the weights for:\n",
        "\n",
        "1. The embedding layer.\n",
        "2. The first of the twelve transformers.\n",
        "3. The output layer."
      ],
      "metadata": {
        "id": "oWir0-w-2v-G"
      },
      "id": "oWir0-w-2v-G"
    },
    {
      "cell_type": "code",
      "execution_count": null,
      "id": "d5d1044f",
      "metadata": {
        "execution": {
          "iopub.execute_input": "2021-12-20T15:04:09.257927Z",
          "iopub.status.busy": "2021-12-20T15:04:09.256383Z",
          "iopub.status.idle": "2021-12-20T15:04:09.265400Z",
          "shell.execute_reply": "2021-12-20T15:04:09.264781Z",
          "shell.execute_reply.started": "2021-12-20T14:33:45.132614Z"
        },
        "id": "d5d1044f",
        "papermill": {
          "duration": 0.05217,
          "end_time": "2021-12-20T15:04:09.265561",
          "exception": false,
          "start_time": "2021-12-20T15:04:09.213391",
          "status": "completed"
        },
        "tags": []
      },
      "outputs": [],
      "source": [
        "b = model.bert.pooler.dense.weight\n",
        "c = model.classifier.weight\n",
        "b = b.cpu().detach().numpy()\n",
        "c = c.cpu().detach().numpy()"
      ]
    },
    {
      "cell_type": "code",
      "execution_count": null,
      "id": "6070d874",
      "metadata": {
        "execution": {
          "iopub.execute_input": "2021-12-20T15:04:09.359175Z",
          "iopub.status.busy": "2021-12-20T15:04:09.356999Z",
          "iopub.status.idle": "2021-12-20T15:04:09.368806Z",
          "shell.execute_reply": "2021-12-20T15:04:09.369940Z",
          "shell.execute_reply.started": "2021-12-20T14:33:45.145079Z"
        },
        "id": "6070d874",
        "outputId": "e87acb80-8ae1-465b-8d42-36aa7f68a775",
        "papermill": {
          "duration": 0.064684,
          "end_time": "2021-12-20T15:04:09.370132",
          "exception": false,
          "start_time": "2021-12-20T15:04:09.305448",
          "status": "completed"
        },
        "tags": []
      },
      "outputs": [
        {
          "name": "stdout",
          "output_type": "stream",
          "text": [
            "The BERT model has 201 different named parameters.\n",
            "\n",
            "==== Embedding Layer ====\n",
            "\n",
            "bert.embeddings.word_embeddings.weight                  (119547, 768)\n",
            "bert.embeddings.position_embeddings.weight                (512, 768)\n",
            "bert.embeddings.token_type_embeddings.weight                (2, 768)\n",
            "bert.embeddings.LayerNorm.weight                              (768,)\n",
            "bert.embeddings.LayerNorm.bias                                (768,)\n",
            "\n",
            "==== First Transformer ====\n",
            "\n",
            "bert.encoder.layer.0.attention.self.query.weight          (768, 768)\n",
            "bert.encoder.layer.0.attention.self.query.bias                (768,)\n",
            "bert.encoder.layer.0.attention.self.key.weight            (768, 768)\n",
            "bert.encoder.layer.0.attention.self.key.bias                  (768,)\n",
            "bert.encoder.layer.0.attention.self.value.weight          (768, 768)\n",
            "bert.encoder.layer.0.attention.self.value.bias                (768,)\n",
            "bert.encoder.layer.0.attention.output.dense.weight        (768, 768)\n",
            "bert.encoder.layer.0.attention.output.dense.bias              (768,)\n",
            "bert.encoder.layer.0.attention.output.LayerNorm.weight        (768,)\n",
            "bert.encoder.layer.0.attention.output.LayerNorm.bias          (768,)\n",
            "bert.encoder.layer.0.intermediate.dense.weight           (3072, 768)\n",
            "bert.encoder.layer.0.intermediate.dense.bias                 (3072,)\n",
            "bert.encoder.layer.0.output.dense.weight                 (768, 3072)\n",
            "bert.encoder.layer.0.output.dense.bias                        (768,)\n",
            "bert.encoder.layer.0.output.LayerNorm.weight                  (768,)\n",
            "bert.encoder.layer.0.output.LayerNorm.bias                    (768,)\n",
            "\n",
            "==== Output Layer ====\n",
            "\n",
            "bert.pooler.dense.weight                                  (768, 768)\n",
            "bert.pooler.dense.bias                                        (768,)\n",
            "classifier.weight                                           (5, 768)\n",
            "classifier.bias                                                 (5,)\n"
          ]
        }
      ],
      "source": [
        "# Get all of the model's parameters as a list of tuples.\n",
        "params = list(model.named_parameters())\n",
        "\n",
        "print('The BERT model has {:} different named parameters.\\n'.format(len(params)))\n",
        "\n",
        "print('==== Embedding Layer ====\\n')\n",
        "\n",
        "for p in params[0:5]:\n",
        "    print(\"{:<55} {:>12}\".format(p[0], str(tuple(p[1].size()))))\n",
        "\n",
        "print('\\n==== First Transformer ====\\n')\n",
        "\n",
        "for p in params[5:21]:\n",
        "    print(\"{:<55} {:>12}\".format(p[0], str(tuple(p[1].size()))))\n",
        "\n",
        "print('\\n==== Output Layer ====\\n')\n",
        "\n",
        "for p in params[-4:]:\n",
        "    print(\"{:<55} {:>12}\".format(p[0], str(tuple(p[1].size()))))"
      ]
    },
    {
      "cell_type": "markdown",
      "source": [
        "## 4.2. Optimizer & Learning Rate Scheduler\n",
        "\n",
        "\n",
        "Now that we have our model loaded we need to grab the training hyperparameters from within the stored model.\n",
        "\n",
        "For the purposes of fine-tuning, the authors recommend choosing from the following values:\n",
        "- Batch size: 16, 32  (We chose 32 when creating our DataLoaders).\n",
        "- Learning rate (Adam): 5e-5, 3e-5, 2e-5  (We'll use 2e-5).\n",
        "- Number of epochs: 2, 3, 4  (We'll use 4).\n",
        "\n",
        "The epsilon parameter `eps = 1e-8` is \"a very small number to prevent any division by zero in the implementation\" (from [here](https://machinelearningmastery.com/adam-optimization-algorithm-for-deep-learning/)).\n",
        "\n",
        "You can find the creation of the AdamW optimizer in `run_glue.py` [here](https://github.com/huggingface/transformers/blob/5bfcd0485ece086ebcbed2d008813037968a9e58/examples/run_glue.py#L109)."
      ],
      "metadata": {
        "id": "tW0WFjZZ2ziA"
      },
      "id": "tW0WFjZZ2ziA"
    },
    {
      "cell_type": "code",
      "execution_count": null,
      "id": "1b806790",
      "metadata": {
        "execution": {
          "iopub.execute_input": "2021-12-20T15:04:09.462820Z",
          "iopub.status.busy": "2021-12-20T15:04:09.461497Z",
          "iopub.status.idle": "2021-12-20T15:04:09.466545Z",
          "shell.execute_reply": "2021-12-20T15:04:09.465949Z",
          "shell.execute_reply.started": "2021-12-20T14:33:45.172149Z"
        },
        "id": "1b806790",
        "papermill": {
          "duration": 0.054853,
          "end_time": "2021-12-20T15:04:09.466691",
          "exception": false,
          "start_time": "2021-12-20T15:04:09.411838",
          "status": "completed"
        },
        "tags": []
      },
      "outputs": [],
      "source": [
        "# Note: AdamW is a class from the huggingface library (as opposed to pytorch) \n",
        "# I believe the 'W' stands for 'Weight Decay fix\"\n",
        "optimizer = AdamW(model.parameters(),\n",
        "                  lr = 2e-5, # args.learning_rate - default is 5e-5, our notebook had 2e-5\n",
        "                  eps = 1e-8 # args.adam_epsilon  - default is 1e-8.\n",
        "                )\n"
      ]
    },
    {
      "cell_type": "code",
      "execution_count": null,
      "id": "c2200dc5",
      "metadata": {
        "execution": {
          "iopub.execute_input": "2021-12-20T15:04:09.555009Z",
          "iopub.status.busy": "2021-12-20T15:04:09.553465Z",
          "iopub.status.idle": "2021-12-20T15:04:09.557505Z",
          "shell.execute_reply": "2021-12-20T15:04:09.556881Z",
          "shell.execute_reply.started": "2021-12-20T14:33:46.560200Z"
        },
        "id": "c2200dc5",
        "papermill": {
          "duration": 0.050705,
          "end_time": "2021-12-20T15:04:09.557665",
          "exception": false,
          "start_time": "2021-12-20T15:04:09.506960",
          "status": "completed"
        },
        "tags": []
      },
      "outputs": [],
      "source": [
        "from transformers import get_linear_schedule_with_warmup\n",
        "\n",
        "# Number of training epochs (authors recommend between 2 and 4)\n",
        "epochs = 4\n",
        "\n",
        "# Total number of training steps is number of batches * number of epochs.\n",
        "total_steps = len(train_dataloader) * epochs\n",
        "\n",
        "# Create the learning rate scheduler.\n",
        "scheduler = get_linear_schedule_with_warmup(optimizer, \n",
        "                                            num_warmup_steps = 100, # Default value in run_glue.py\n",
        "                                            num_training_steps = total_steps)"
      ]
    },
    {
      "cell_type": "markdown",
      "source": [
        "## 4.3. Training Loop"
      ],
      "metadata": {
        "id": "Gl9FdOK427bB"
      },
      "id": "Gl9FdOK427bB"
    },
    {
      "cell_type": "code",
      "execution_count": null,
      "id": "cd1ab08f",
      "metadata": {
        "execution": {
          "iopub.execute_input": "2021-12-20T15:04:09.641585Z",
          "iopub.status.busy": "2021-12-20T15:04:09.640796Z",
          "iopub.status.idle": "2021-12-20T15:04:09.645861Z",
          "shell.execute_reply": "2021-12-20T15:04:09.645204Z",
          "shell.execute_reply.started": "2021-12-20T14:33:48.713509Z"
        },
        "id": "cd1ab08f",
        "papermill": {
          "duration": 0.050143,
          "end_time": "2021-12-20T15:04:09.646028",
          "exception": false,
          "start_time": "2021-12-20T15:04:09.595885",
          "status": "completed"
        },
        "tags": []
      },
      "outputs": [],
      "source": [
        "import numpy as np\n",
        "from sklearn.metrics import f1_score\n",
        "# Function to calculate the accuracy of our predictions vs labels\n",
        "def flat_f1(preds, labels):\n",
        "    pred_flat = np.argmax(preds, axis=1).flatten()\n",
        "    labels_flat = labels.flatten()\n",
        "    return f1_score(labels_flat, pred_flat, average='micro')"
      ]
    },
    {
      "cell_type": "code",
      "execution_count": null,
      "id": "208f763f",
      "metadata": {
        "execution": {
          "iopub.execute_input": "2021-12-20T15:04:09.731630Z",
          "iopub.status.busy": "2021-12-20T15:04:09.730782Z",
          "iopub.status.idle": "2021-12-20T15:04:09.734716Z",
          "shell.execute_reply": "2021-12-20T15:04:09.734124Z",
          "shell.execute_reply.started": "2021-12-20T14:33:49.802750Z"
        },
        "id": "208f763f",
        "papermill": {
          "duration": 0.04903,
          "end_time": "2021-12-20T15:04:09.734915",
          "exception": false,
          "start_time": "2021-12-20T15:04:09.685885",
          "status": "completed"
        },
        "tags": []
      },
      "outputs": [],
      "source": [
        "import time\n",
        "import datetime\n",
        "\n",
        "def format_time(elapsed):\n",
        "    '''\n",
        "    Takes a time in seconds and returns a string hh:mm:ss\n",
        "    '''\n",
        "    # Round to the nearest second.\n",
        "    elapsed_rounded = int(round((elapsed)))\n",
        "    \n",
        "    # Format as hh:mm:ss\n",
        "    return str(datetime.timedelta(seconds=elapsed_rounded))\n"
      ]
    },
    {
      "cell_type": "code",
      "execution_count": null,
      "id": "2b99f147",
      "metadata": {
        "execution": {
          "iopub.execute_input": "2021-12-20T15:04:09.854165Z",
          "iopub.status.busy": "2021-12-20T15:04:09.849667Z",
          "iopub.status.idle": "2021-12-20T15:19:03.344693Z",
          "shell.execute_reply": "2021-12-20T15:19:03.345292Z",
          "shell.execute_reply.started": "2021-12-20T14:33:51.507623Z"
        },
        "id": "2b99f147",
        "outputId": "bb2a737d-22cd-468e-e2dc-7629d106f4af",
        "papermill": {
          "duration": 893.571637,
          "end_time": "2021-12-20T15:19:03.345553",
          "exception": false,
          "start_time": "2021-12-20T15:04:09.773916",
          "status": "completed"
        },
        "tags": []
      },
      "outputs": [
        {
          "name": "stdout",
          "output_type": "stream",
          "text": [
            "\n",
            "======== Epoch 1 / 4 ========\n",
            "Training...\n",
            "  Batch    40  of    335.    Elapsed: 0:00:21.\n",
            "  Batch    80  of    335.    Elapsed: 0:00:41.\n",
            "  Batch   120  of    335.    Elapsed: 0:01:00.\n",
            "  Batch   160  of    335.    Elapsed: 0:01:20.\n",
            "  Batch   200  of    335.    Elapsed: 0:01:40.\n",
            "  Batch   240  of    335.    Elapsed: 0:02:00.\n",
            "  Batch   280  of    335.    Elapsed: 0:02:20.\n",
            "  Batch   320  of    335.    Elapsed: 0:02:40.\n",
            "\n",
            "  Average training loss: 0.80\n",
            "  Training epcoh took: 0:02:47\n",
            "\n",
            "Running Validation...\n",
            "  F1: 0.81\n",
            "  Validation took: 0:00:58\n",
            "\n",
            "======== Epoch 2 / 4 ========\n",
            "Training...\n",
            "  Batch    40  of    335.    Elapsed: 0:00:20.\n",
            "  Batch    80  of    335.    Elapsed: 0:00:40.\n",
            "  Batch   120  of    335.    Elapsed: 0:00:59.\n",
            "  Batch   160  of    335.    Elapsed: 0:01:19.\n",
            "  Batch   200  of    335.    Elapsed: 0:01:39.\n",
            "  Batch   240  of    335.    Elapsed: 0:01:59.\n",
            "  Batch   280  of    335.    Elapsed: 0:02:19.\n",
            "  Batch   320  of    335.    Elapsed: 0:02:39.\n",
            "\n",
            "  Average training loss: 0.43\n",
            "  Training epcoh took: 0:02:46\n",
            "\n",
            "Running Validation...\n",
            "  F1: 0.83\n",
            "  Validation took: 0:00:58\n",
            "\n",
            "======== Epoch 3 / 4 ========\n",
            "Training...\n",
            "  Batch    40  of    335.    Elapsed: 0:00:20.\n",
            "  Batch    80  of    335.    Elapsed: 0:00:40.\n",
            "  Batch   120  of    335.    Elapsed: 0:00:59.\n",
            "  Batch   160  of    335.    Elapsed: 0:01:19.\n",
            "  Batch   200  of    335.    Elapsed: 0:01:39.\n",
            "  Batch   240  of    335.    Elapsed: 0:01:59.\n",
            "  Batch   280  of    335.    Elapsed: 0:02:18.\n",
            "  Batch   320  of    335.    Elapsed: 0:02:38.\n",
            "\n",
            "  Average training loss: 0.31\n",
            "  Training epcoh took: 0:02:45\n",
            "\n",
            "Running Validation...\n",
            "  F1: 0.83\n",
            "  Validation took: 0:00:57\n",
            "\n",
            "======== Epoch 4 / 4 ========\n",
            "Training...\n",
            "  Batch    40  of    335.    Elapsed: 0:00:20.\n",
            "  Batch    80  of    335.    Elapsed: 0:00:40.\n",
            "  Batch   120  of    335.    Elapsed: 0:00:59.\n",
            "  Batch   160  of    335.    Elapsed: 0:01:19.\n",
            "  Batch   200  of    335.    Elapsed: 0:01:39.\n",
            "  Batch   240  of    335.    Elapsed: 0:01:59.\n",
            "  Batch   280  of    335.    Elapsed: 0:02:19.\n",
            "  Batch   320  of    335.    Elapsed: 0:02:38.\n",
            "\n",
            "  Average training loss: 0.24\n",
            "  Training epcoh took: 0:02:46\n",
            "\n",
            "Running Validation...\n",
            "  F1: 0.83\n",
            "  Validation took: 0:00:57\n",
            "\n",
            "Training complete!\n"
          ]
        }
      ],
      "source": [
        "import random\n",
        "\n",
        "# This training code is based on the `run_glue.py` script here:\n",
        "# https://github.com/huggingface/transformers/blob/5bfcd0485ece086ebcbed2d008813037968a9e58/examples/run_glue.py#L128\n",
        "\n",
        "\n",
        "# Set the seed value all over the place to make this reproducible.\n",
        "seed_val = 42\n",
        "\n",
        "random.seed(seed_val)\n",
        "np.random.seed(seed_val)\n",
        "torch.manual_seed(seed_val)\n",
        "torch.cuda.manual_seed_all(seed_val)\n",
        "\n",
        "# Store the average loss after each epoch so we can plot them.\n",
        "loss_values = []\n",
        "\n",
        "# For each epoch...\n",
        "for epoch_i in range(0, epochs):\n",
        "    \n",
        "    # ========================================\n",
        "    #               Training\n",
        "    # ========================================\n",
        "    \n",
        "    # Perform one full pass over the training set.\n",
        "\n",
        "    print(\"\")\n",
        "    print('======== Epoch {:} / {:} ========'.format(epoch_i + 1, epochs))\n",
        "    print('Training...')\n",
        "\n",
        "    # Measure how long the training epoch takes.\n",
        "    t0 = time.time()\n",
        "\n",
        "    # Reset the total loss for this epoch.\n",
        "    total_loss = 0\n",
        "\n",
        "    # Put the model into training mode. Don't be mislead--the call to \n",
        "    # `train` just changes the *mode*, it doesn't *perform* the training.\n",
        "    # `dropout` and `batchnorm` layers behave differently during training\n",
        "    # vs. test (source: https://stackoverflow.com/questions/51433378/what-does-model-train-do-in-pytorch)\n",
        "    model.train()\n",
        "\n",
        "    # For each batch of training data...\n",
        "    for step, batch in enumerate(train_dataloader):\n",
        "\n",
        "        # Progress update every 40 batches.\n",
        "        if step % 40 == 0 and not step == 0:\n",
        "            # Calculate elapsed time in minutes.\n",
        "            elapsed = format_time(time.time() - t0)\n",
        "            \n",
        "            # Report progress.\n",
        "            print('  Batch {:>5,}  of  {:>5,}.    Elapsed: {:}.'.format(step, len(train_dataloader), elapsed))\n",
        "\n",
        "        # Unpack this training batch from our dataloader. \n",
        "        #\n",
        "        # As we unpack the batch, we'll also copy each tensor to the GPU using the \n",
        "        # `to` method.\n",
        "        #\n",
        "        # `batch` contains three pytorch tensors:\n",
        "        #   [0]: input ids \n",
        "        #   [1]: attention masks\n",
        "        #   [2]: labels \n",
        "        b_input_ids = batch[0].to(device)\n",
        "        b_input_mask = batch[1].to(device)\n",
        "        b_labels = batch[2].to(device)\n",
        "\n",
        "        # Always clear any previously calculated gradients before performing a\n",
        "        # backward pass. PyTorch doesn't do this automatically because \n",
        "        # accumulating the gradients is \"convenient while training RNNs\". \n",
        "        # (source: https://stackoverflow.com/questions/48001598/why-do-we-need-to-call-zero-grad-in-pytorch)\n",
        "        model.zero_grad()        \n",
        "\n",
        "        # Perform a forward pass (evaluate the model on this training batch).\n",
        "        # This will return the loss (rather than the model output) because we\n",
        "        # have provided the `labels`.\n",
        "        # The documentation for this `model` function is here: \n",
        "        # https://huggingface.co/transformers/v2.2.0/model_doc/bert.html#transformers.BertForSequenceClassification\n",
        "        outputs = model(b_input_ids, \n",
        "                    token_type_ids=None, \n",
        "                    attention_mask=b_input_mask, \n",
        "                    labels=b_labels)\n",
        "        \n",
        "        # The call to `model` always returns a tuple, so we need to pull the \n",
        "        # loss value out of the tuple.\n",
        "        loss = outputs[0]\n",
        "\n",
        "        # Accumulate the training loss over all of the batches so that we can\n",
        "        # calculate the average loss at the end. `loss` is a Tensor containing a\n",
        "        # single value; the `.item()` function just returns the Python value \n",
        "        # from the tensor.\n",
        "        total_loss += loss.item()\n",
        "\n",
        "        # Perform a backward pass to calculate the gradients.\n",
        "        loss.backward()\n",
        "\n",
        "        # Clip the norm of the gradients to 1.0.\n",
        "        # This is to help prevent the \"exploding gradients\" problem.\n",
        "        torch.nn.utils.clip_grad_norm_(model.parameters(), 1.0)\n",
        "\n",
        "        # Update parameters and take a step using the computed gradient.\n",
        "        # The optimizer dictates the \"update rule\"--how the parameters are\n",
        "        # modified based on their gradients, the learning rate, etc.\n",
        "        optimizer.step()\n",
        "\n",
        "        # Update the learning rate.\n",
        "        scheduler.step()\n",
        "\n",
        "    # Calculate the average loss over the training data.\n",
        "    avg_train_loss = total_loss / len(train_dataloader)            \n",
        "    \n",
        "    # Store the loss value for plotting the learning curve.\n",
        "    loss_values.append(avg_train_loss)\n",
        "\n",
        "    print(\"\")\n",
        "    print(\"  Average training loss: {0:.2f}\".format(avg_train_loss))\n",
        "    print(\"  Training epcoh took: {:}\".format(format_time(time.time() - t0)))\n",
        "        \n",
        "    # ========================================\n",
        "    #               Validation\n",
        "    # ========================================\n",
        "    # After the completion of each training epoch, measure our performance on\n",
        "    # our validation set.\n",
        "\n",
        "    print(\"\")\n",
        "    print(\"Running Validation...\")\n",
        "\n",
        "    t0 = time.time()\n",
        "\n",
        "    # Put the model in evaluation mode--the dropout layers behave differently\n",
        "    # during evaluation.\n",
        "    model.eval()\n",
        "\n",
        "    # Tracking variables \n",
        "    eval_loss, eval_accuracy = 0, 0\n",
        "    nb_eval_steps, nb_eval_examples = 0, 0\n",
        "    \n",
        "    eval_preds = []\n",
        "    eval_targets = []\n",
        "    # Evaluate data for one epoch\n",
        "    for batch in validation_dataloader:\n",
        "        \n",
        "        # Add batch to GPU\n",
        "        batch = tuple(t.to(device) for t in batch)\n",
        "        \n",
        "        # Unpack the inputs from our dataloader\n",
        "        b_input_ids, b_input_mask, b_labels = batch\n",
        "        \n",
        "        # Telling the model not to compute or store gradients, saving memory and\n",
        "        # speeding up validation\n",
        "        with torch.no_grad():        \n",
        "            outputs = model(b_input_ids, \n",
        "                            token_type_ids=None, \n",
        "                            attention_mask=b_input_mask)\n",
        "        \n",
        "        \n",
        "        logits = outputs[0]\n",
        "\n",
        "        logits = logits.detach().cpu().numpy()\n",
        "        label_ids = b_labels.to('cpu').numpy()\n",
        "        \n",
        "        eval_preds.append(logits)\n",
        "        eval_targets.append(label_ids)\n",
        "        \n",
        "        \n",
        "    test_targets = np.concatenate(eval_targets).squeeze()\n",
        "    test_pred_class = np.concatenate(eval_preds).squeeze()\n",
        "    \n",
        "    f1 = flat_f1(test_pred_class, test_targets)\n",
        "    \n",
        "    print(\"  F1: {0:.2f}\".format(f1))\n",
        "    print(\"  Validation took: {:}\".format(format_time(time.time() - t0)))\n",
        "\n",
        "print(\"\")\n",
        "print(\"Training complete!\")"
      ]
    },
    {
      "cell_type": "markdown",
      "source": [
        "# Результат!"
      ],
      "metadata": {
        "id": "aN6aHXOzzGr_"
      },
      "id": "aN6aHXOzzGr_"
    },
    {
      "cell_type": "markdown",
      "id": "eed45036",
      "metadata": {
        "papermill": {
          "duration": 0.05381,
          "end_time": "2021-12-20T15:19:03.452150",
          "exception": false,
          "start_time": "2021-12-20T15:19:03.398340",
          "status": "completed"
        },
        "tags": [],
        "id": "eed45036"
      },
      "source": [
        "F-score - 0.83, это хороший результат, мне больше нравятся такие, чем под 1, так как есть возможность пересмотреть данные, может, подумать над разметкой и все такое"
      ]
    },
    {
      "cell_type": "code",
      "execution_count": 4,
      "id": "9970c329",
      "metadata": {
        "papermill": {
          "duration": 0.051937,
          "end_time": "2021-12-20T15:19:04.055328",
          "exception": false,
          "start_time": "2021-12-20T15:19:04.003391",
          "status": "completed"
        },
        "tags": [],
        "colab": {
          "base_uri": "https://localhost:8080/",
          "height": 426
        },
        "id": "9970c329",
        "outputId": "8eba61fe-d560-450e-9152-32a453869b32"
      },
      "outputs": [
        {
          "output_type": "display_data",
          "data": {
            "image/png": "[encoded data removed]",
            "text/plain": [
              "<Figure size 864x432 with 1 Axes>"
            ]
          },
          "metadata": {}
        }
      ],
      "source": [
        "import matplotlib.pyplot as plt\n",
        "\n",
        "\n",
        "import seaborn as sns\n",
        "\n",
        "# Use plot styling from seaborn.\n",
        "sns.set(style='darkgrid')\n",
        "\n",
        "# Increase the plot size and font size.\n",
        "sns.set(font_scale=1.5)\n",
        "plt.rcParams[\"figure.figsize\"] = (12,6)\n",
        "\n",
        "# Plot the learning curve.\n",
        "plt.plot(loss_values, 'b-o')\n",
        "\n",
        "# Label the plot.\n",
        "plt.title(\"Training loss\")\n",
        "plt.xlabel(\"Epoch\")\n",
        "plt.ylabel(\"Loss\")\n",
        "\n",
        "plt.show()"
      ]
    },
    {
      "cell_type": "markdown",
      "source": [
        "Лосс отлично тоже попадал, претензий нет! "
      ],
      "metadata": {
        "id": "9DUaGQ1_zmxM"
      },
      "id": "9DUaGQ1_zmxM"
    },
    {
      "cell_type": "code",
      "source": [
        ""
      ],
      "metadata": {
        "id": "UXt12BbdzUP3"
      },
      "id": "UXt12BbdzUP3",
      "execution_count": null,
      "outputs": []
    }
  ],
  "metadata": {
    "kernelspec": {
      "display_name": "Python 3",
      "language": "python",
      "name": "python3"
    },
    "language_info": {
      "codemirror_mode": {
        "name": "ipython",
        "version": 3
      },
      "file_extension": ".py",
      "mimetype": "text/x-python",
      "name": "python",
      "nbconvert_exporter": "python",
      "pygments_lexer": "ipython3",
      "version": "3.7.12"
    },
    "papermill": {
      "default_parameters": {},
      "duration": 1130.379319,
      "end_time": "2021-12-20T15:19:07.701463",
      "environment_variables": {},
      "exception": null,
      "input_path": "__notebook__.ipynb",
      "output_path": "__notebook__.ipynb",
      "parameters": {},
      "start_time": "2021-12-20T15:00:17.322144",
      "version": "2.3.3"
    },
    "widgets": {
      "application/vnd.jupyter.widget-state+json": {}
    },
    "colab": {
      "name": "BERT Fine-Tuning Sentence Classification.ipynb",
      "provenance": [],
      "collapsed_sections": []
    }
  },
  "nbformat": 4,
  "nbformat_minor": 5
}